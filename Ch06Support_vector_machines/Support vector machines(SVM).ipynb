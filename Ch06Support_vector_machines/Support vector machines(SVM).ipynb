{
 "cells": [
  {
   "cell_type": "markdown",
   "metadata": {},
   "source": [
    "# SVM\n",
    " * 最流行实现：序列最小化(Sequential Minimal Optimization, SMO)算法\n",
    " * 将SVM扩展到更多数据集上：核函数(kernel)\n",
    " * 通过SVM提高手写数字识别效果\n",
    " * Warning:SVM本身是一个二类分类器，对多类问题应用SVM需要对代码做一些修改"
   ]
  },
  {
   "cell_type": "markdown",
   "metadata": {},
   "source": [
    "## 最流行实现：序列最小化(Sequential Minimal Optimization, SMO)算法\n",
    " * __一种求解支持向量机二次规划的算法。__\n",
    " * 一旦求出了所有的alpha，那么分隔超平面就可以通过这些alpha来表达。这一结论十分直接， SVM中的主要工作就是求解这些alpha。(P112 6.2.1最后)"
   ]
  },
  {
   "cell_type": "markdown",
   "metadata": {},
   "source": [
    "### 基于最大间隔分割数据\n",
    " * 线性可分（linearly separable）数据\n",
    " * 我们希望找到离分隔__超平面__最近的点，确保它们离分隔面的距离尽可能远。这里点到分隔面的距离被称为间隔①（margin）。\n",
    " * 支持向量（support vector）就是离分隔超平面最近的那些点。接下来要试着最大化支持向量到分隔面的距离，需要找到此问题的优化求解方法。"
   ]
  },
  {
   "cell_type": "markdown",
   "metadata": {},
   "source": [
    "### 寻找最大间隔\n",
    " * 这里的最大间隔指的是 支持向量 到分割面(即超平面)的距离\n",
    " * 计算 点 A 到 分 隔 超 平 面 的 距 离 ， 就 必 须 给 出 点 到 分 隔 面 的 法 线 或 垂 线 的 长 度 ， 该 值 为|wTA+b|/||w||。"
   ]
  },
  {
   "attachments": {
    "image.png": {
     "image/png": "[encoded data removed]"
    }
   },
   "cell_type": "markdown",
   "metadata": {},
   "source": [
    "#### 分类器求解的优化问题\n",
    " * label * (wTx+b)被称为点到分隔面的函数间隔;\n",
    " * 点到分隔面的__几何__间隔\n",
    " * 拉格朗日乘子(法)\n",
    " * SVM中的主要工作就是求解这些alpha\n",
    " ![image.png](attachment:image.png)\n",
    " * 上图是优化目标函数，尖括号表示 x( ) i 和 x( ) j 两个向量的内积。\n",
    " ![image.png](attachment:image.png)\n",
    " * 上图是约束条件，这里的常数C用于控制“最大化间隔”和“保证大部分点的函数间隔小于1.0”这两个目标的权重。在优化算法的实现代码中，常数C是一个参数，因此我们就可以通过调节该参数得到不同的结果。一旦求出了所有的alpha，那么分隔超平面就可以通过这些alpha来表达。这一结论十分直接， SVM中的主要工作就是求解这些alpha。"
   ]
  },
  {
   "cell_type": "markdown",
   "metadata": {},
   "source": [
    "#### SVM应用的一般框架"
   ]
  },
  {
   "cell_type": "markdown",
   "metadata": {},
   "source": [
    "### SMO 高效优化算法\n",
    " * 简化版（易理解）\n",
    " * 完整版（效率高，速度快）"
   ]
  },
  {
   "cell_type": "markdown",
   "metadata": {},
   "source": [
    "#### 简化版 SMO 算法\n",
    " * 处理小规模数据集"
   ]
  },
  {
   "cell_type": "code",
   "execution_count": 1,
   "metadata": {},
   "outputs": [],
   "source": [
    "from numpy import *"
   ]
  },
  {
   "cell_type": "code",
   "execution_count": 2,
   "metadata": {},
   "outputs": [],
   "source": [
    "def loadDataSet(fileName):\n",
    "    dataMat = []\n",
    "    labelMat = []\n",
    "    fr = open(fileName)\n",
    "    for line in fr.readlines():\n",
    "        lineArr = line.strip().split('\\t')\n",
    "        dataMat.append([float(lineArr[0]), float(lineArr[1])])\n",
    "        labelMat.append(float(lineArr[2]))\n",
    "    return dataMat, labelMat\n",
    "\n",
    "# 辅助函数，用于在某个区间范围内随机选择一个整数\n",
    "# i 是第一个alpha的下标，m 是所有alpha的数目\n",
    "def selectJrand(i, m):\n",
    "    j = i\n",
    "    while (j==i):\n",
    "        j = int(random.uniform(0, m))\n",
    "    return j\n",
    "\n",
    "# 辅助函数，用于在数值太大时对其进行调整\n",
    "def clipAlpha(aj, H, L):\n",
    "    if aj > H:\n",
    "        aj = H\n",
    "    if L > aj:\n",
    "        aj = L\n",
    "    return aj"
   ]
  },
  {
   "cell_type": "code",
   "execution_count": 4,
   "metadata": {},
   "outputs": [
    {
     "data": {
      "text/plain": [
       "[-1.0,\n",
       " -1.0,\n",
       " 1.0,\n",
       " -1.0,\n",
       " 1.0,\n",
       " 1.0,\n",
       " 1.0,\n",
       " -1.0,\n",
       " -1.0,\n",
       " -1.0,\n",
       " -1.0,\n",
       " -1.0,\n",
       " -1.0,\n",
       " 1.0,\n",
       " -1.0,\n",
       " 1.0,\n",
       " 1.0,\n",
       " -1.0,\n",
       " 1.0,\n",
       " -1.0,\n",
       " -1.0,\n",
       " -1.0,\n",
       " 1.0,\n",
       " -1.0,\n",
       " -1.0,\n",
       " 1.0,\n",
       " 1.0,\n",
       " -1.0,\n",
       " -1.0,\n",
       " -1.0,\n",
       " -1.0,\n",
       " 1.0,\n",
       " 1.0,\n",
       " 1.0,\n",
       " 1.0,\n",
       " -1.0,\n",
       " 1.0,\n",
       " -1.0,\n",
       " -1.0,\n",
       " 1.0,\n",
       " -1.0,\n",
       " -1.0,\n",
       " -1.0,\n",
       " -1.0,\n",
       " 1.0,\n",
       " 1.0,\n",
       " 1.0,\n",
       " 1.0,\n",
       " 1.0,\n",
       " -1.0,\n",
       " 1.0,\n",
       " 1.0,\n",
       " -1.0,\n",
       " -1.0,\n",
       " 1.0,\n",
       " 1.0,\n",
       " -1.0,\n",
       " 1.0,\n",
       " -1.0,\n",
       " -1.0,\n",
       " -1.0,\n",
       " -1.0,\n",
       " 1.0,\n",
       " -1.0,\n",
       " 1.0,\n",
       " -1.0,\n",
       " -1.0,\n",
       " 1.0,\n",
       " 1.0,\n",
       " 1.0,\n",
       " -1.0,\n",
       " 1.0,\n",
       " 1.0,\n",
       " -1.0,\n",
       " -1.0,\n",
       " 1.0,\n",
       " -1.0,\n",
       " 1.0,\n",
       " 1.0,\n",
       " 1.0,\n",
       " 1.0,\n",
       " 1.0,\n",
       " 1.0,\n",
       " 1.0,\n",
       " -1.0,\n",
       " -1.0,\n",
       " -1.0,\n",
       " -1.0,\n",
       " 1.0,\n",
       " -1.0,\n",
       " 1.0,\n",
       " 1.0,\n",
       " 1.0,\n",
       " -1.0,\n",
       " -1.0,\n",
       " -1.0,\n",
       " -1.0,\n",
       " -1.0,\n",
       " -1.0,\n",
       " -1.0]"
      ]
     },
     "execution_count": 4,
     "metadata": {},
     "output_type": "execute_result"
    }
   ],
   "source": [
    "dataArr, labelArr = loadDataSet('testSet.txt')\n",
    "labelArr"
   ]
  },
  {
   "cell_type": "code",
   "execution_count": null,
   "metadata": {},
   "outputs": [],
   "source": [
    "# 简化版 SMO 算法\n",
    "# 输入的五个参数分别代表：数据集，类别标签，常数C，容错率和退出前最大的循环次数\n",
    "def smoSimple(dataMatIn, classLabels, C, toler, maxIter):\n",
    "    dataMatrix = mat(dataMatIn)\n",
    "    labelMat = mat(classLabels).transpose()\n",
    "    b = 0\n",
    "    m, n = shape(dataMatrix)\n",
    "    alphas = mat(zeros((m, 1)))\n",
    "    iter = 0\n",
    "    while (iter < maxIter):\n",
    "        alphaPairsChanged = 0\n",
    "        for i in range(m):\n",
    "            fXi = float(multiply(alphas, labelMat).T*\\\n",
    "                       (dataMatrix*dataMatrix[i].T)) + b\n",
    "            Ei = fXi - float(labelMat[i])\n",
    "            if ((labelMat[i]*Ei < -toler) and (alphas[i] < C)) or \\\n",
    "            ((labelMat[i]*Ei > toler) and \\\n",
    "            (alphas[i] > 0)):\n",
    "                j = selectJrand(i, m)\n",
    "                fXj = float(multiply(alphas, labelMat).T*\\\n",
    "                           (dataMatrix*dataMatrix[i, :].T)) + b\n",
    "                Ei = fXi - float(labelMat[i])\n",
    "                if ((labelMat[i]*Ei < -toler) and (alphas[i] < C)) or \\\n",
    "                    ((labelMat[i]*Ei > toler) and \\\n",
    "                    (alphas[i] > 0)):\n",
    "                    j = selectJrand(i, m)\n",
    "                    fXj = float(multiply(alphas, labelMat).T*\\\n",
    "                               (dataMatrix*dataMatrix[j, :].T)) + b\n",
    "                    Ej = fXj - float(labelMat[j])\n",
    "                    alphaIold = alphas[i].copy()\n",
    "                    alphaJold = alphas[j].copy()\n",
    "                    if (labelMat[i] != labelMat[j]):\n",
    "                        L = max(0, alphas[j] - alphas[i])\n",
    "                        H = min(C, C + alphas[j] - alphas[i])\n",
    "                    else:\n",
    "                        L = max(0, alphas[j] + alphas[i] - C)\n",
    "                        H = min(C, C + alphas[j] - alphas[i])\n",
    "                    if L==H :\n",
    "                        print 'L==H'\n",
    "                        continue\n",
    "                    eta = 2.0 * dataMatrix[i, :]*dataMatrix[j, :].T - \\\n",
    "                          dataMatrix[i, :]*dataMatrix[i, :].T - \\\n",
    "                          dataMatrix[j, :]*dataMatrix[j, :].T\n",
    "                    if eta >= 0:\n",
    "                        print 'eta>=0'\n",
    "                        continue\n",
    "                    alphas[i] -= labelMat[j]*(Ei - Ej)/eta\n",
    "                    alphas[j] = clipAlpha(alphas[j], H, L)\n",
    "                    if (abs(alphas[j] - alphaJold) < 0.00001):\n",
    "                        print 'j not moving enough'\n",
    "                        continue\n",
    "                    alphas[i] += labelMat[j]*labelMat[i]*\\\n",
    "                              (alphaJold - alphas[j])\n",
    "                    b1 = b - Ei - labelMat[i]*(alphas[i] - alphaIold)*\\\n",
    "                        dataMatrix[i, :]*dataMatrix[i, :].T - \\\n",
    "                        labelMat[j]*(alphas[j] - alphaJold)*\\\n",
    "                        dataMatrix[i, :]*dataMatrix[j, :].T\n",
    "                    b2 = b - Ej - labelMat[i]*(alphas[i]-alphaIold)*\\\n",
    "                        dataMatrix[i, :]*dataMatrix[0].T - \\\n",
    "                        labelMat[j]*(alphas[j](alphas[j]-alphaJold))*\\\n",
    "                        dataMatrix[j, :]*dataMatrix[j, :].T\n",
    "                    if (0 < alphas[i]) and (C > alphas[i]):\n",
    "                        b = b1\n",
    "                    elif (0 < alphas[j]) and (C > alphas[j]):\n",
    "                        b = b2\n",
    "                    else:\n",
    "                        b = (b1 + b2)/2.0\n",
    "                    alphaPairsChanged += 1\n",
    "                    print 'iter: %d i: %d, pairs changed %d' % (iter.i, alphaPairsChanged)\n",
    "            if (alphaPairsChanged == 0):\n",
    "                iter += 1\n",
    "            else:\n",
    "                iter = 0\n",
    "            print 'iteration number: %d' % iter\n",
    "        return b, alphas"
   ]
  },
  {
   "cell_type": "code",
   "execution_count": null,
   "metadata": {},
   "outputs": [],
   "source": []
  },
  {
   "cell_type": "code",
   "execution_count": null,
   "metadata": {},
   "outputs": [],
   "source": []
  },
  {
   "cell_type": "markdown",
   "metadata": {},
   "source": []
  },
  {
   "cell_type": "code",
   "execution_count": null,
   "metadata": {},
   "outputs": [],
   "source": []
  },
  {
   "cell_type": "code",
   "execution_count": null,
   "metadata": {},
   "outputs": [],
   "source": []
  },
  {
   "cell_type": "code",
   "execution_count": null,
   "metadata": {},
   "outputs": [],
   "source": []
  },
  {
   "cell_type": "code",
   "execution_count": null,
   "metadata": {},
   "outputs": [],
   "source": [
    "\n"
   ]
  }
 ],
 "metadata": {
  "kernelspec": {
   "display_name": "Python 2",
   "language": "python",
   "name": "python2"
  },
  "language_info": {
   "codemirror_mode": {
    "name": "ipython",
    "version": 2
   },
   "file_extension": ".py",
   "mimetype": "text/x-python",
   "name": "python",
   "nbconvert_exporter": "python",
   "pygments_lexer": "ipython2",
   "version": "2.7.15"
  }
 },
 "nbformat": 4,
 "nbformat_minor": 2
}
